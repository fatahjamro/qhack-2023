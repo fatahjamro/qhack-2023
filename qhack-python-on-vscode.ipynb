{
 "cells": [
  {
   "cell_type": "markdown",
   "metadata": {},
   "source": [
    "# It Adds Up   (0 points)\n",
    "\n",
    "Welcome to the QHack 2023 daily challenges! Every day for the next four days, you will receive two new challenges to complete. These challenges are worth no points — they are specifically designed to get your brain active and into the right mindset for the competition. You will also learn about various aspects of PennyLane that are essential to quantum computing, quantum machine learning, and quantum chemistry. Have fun!\n",
    "\n",
    "### Tutorial # 1 — Adding two numbers\n",
    "By completing this tutorial problem, you will gain confidence with interacting with this interface for submitting solutions to the challenges.\n",
    "\n",
    "The code block below intentionally contains editable sections as well as non-editable sections to ensure that vital pieces of the entire code are not modified — they are essential to evaluating your solution. Within the editable sections, you must write your solution to the given problem. When you're ready to submit your solution, you can do so by clicking the \"Submit\" button at the bottom-right of this page. Your solution will run against the public inputs and outputs given by test_cases as well as test cases that are private (not visible to you).\n",
    "\n",
    "When you submit your solution, its status will automatically pop-up on the screen. To see your submission history, you can click the Submissions tab near the top of this page. There, all of your submissions to our grader service will be displayed.\n",
    "\n",
    "What should you do if your submission isn't passing? It would be nice to be able to edit the entire code block, not just what's editable here. To do this, you have a couple of options:\n",
    "\n",
    "At the bottom of the page, if you click the button that says \"Open Notebook\", this will open a notebook interface on Xanadu Cloud that functions exactly the same as a standard Jupyter Notebook.\n",
    "\n",
    "You can also use the \"Copy all\" button to copy the challenge code to your clipboard, paste it into your favourite IDE — e.g., VSCode, Sublime, VIM, etc. — and run the challenge on your own device.\n",
    "\n",
    "In either of these cases, modify the code to your heart's content, noting that you can only paste code back into the editor here in the designated editable area.\n",
    "\n",
    "To get you familiar with how this process works, try completing the function below and submitting your answer.\n",
    "\n",
    "**Challenge code**\n",
    "In the code below, you are given a function called add_numbers. You must complete this function.\n",
    "\n",
    "**Input**\n",
    "As input to this problem, you are given a list(float) containing two numbers to add together: x and y.\n",
    "\n",
    "**Output**\n",
    "This code must output x + y (float).\n",
    "\n",
    "If your solution matches the correct one within the given tolerance specified in check (in this case it's a 1e-4 relative error tolerance), the output will be \"Correct!\" Otherwise, you will receive a \"Wrong answer\" prompt.\n",
    "\n",
    "Good luck and have fun with all of the coding challenges!§b"
   ]
  },
  {
   "cell_type": "markdown",
   "metadata": {},
   "source": [
    "# Code bellow:"
   ]
  },
  {
   "cell_type": "code",
   "execution_count": 2,
   "metadata": {},
   "outputs": [
    {
     "name": "stdout",
     "output_type": "stream",
     "text": [
      "Collecting pennylane\n",
      "  Downloading PennyLane-0.28.0-py3-none-any.whl (1.3 MB)\n",
      "\u001b[2K     \u001b[90m━━━━━━━━━━━━━━━━━━━━━━━━━━━━━━━━━━━━━━━━\u001b[0m \u001b[32m1.3/1.3 MB\u001b[0m \u001b[31m15.5 MB/s\u001b[0m eta \u001b[36m0:00:00\u001b[0m00:01\u001b[0m0:01\u001b[0m\n",
      "\u001b[?25hRequirement already satisfied: requests in /Users/fatah/miniconda3/lib/python3.9/site-packages (from pennylane) (2.28.1)\n",
      "Collecting cachetools\n",
      "  Downloading cachetools-5.3.0-py3-none-any.whl (9.3 kB)\n",
      "Collecting autograd\n",
      "  Downloading autograd-1.5-py3-none-any.whl (48 kB)\n",
      "\u001b[2K     \u001b[90m━━━━━━━━━━━━━━━━━━━━━━━━━━━━━━━━━━━━━━━━\u001b[0m \u001b[32m48.9/48.9 kB\u001b[0m \u001b[31m5.4 MB/s\u001b[0m eta \u001b[36m0:00:00\u001b[0m\n",
      "\u001b[?25hCollecting networkx\n",
      "  Downloading networkx-3.0-py3-none-any.whl (2.0 MB)\n",
      "\u001b[2K     \u001b[90m━━━━━━━━━━━━━━━━━━━━━━━━━━━━━━━━━━━━━━━━\u001b[0m \u001b[32m2.0/2.0 MB\u001b[0m \u001b[31m30.3 MB/s\u001b[0m eta \u001b[36m0:00:00\u001b[0ma \u001b[36m0:00:01\u001b[0m\n",
      "\u001b[?25hCollecting semantic-version>=2.7\n",
      "  Downloading semantic_version-2.10.0-py2.py3-none-any.whl (15 kB)\n",
      "Collecting autoray>=0.3.1\n",
      "  Downloading autoray-0.6.0-py3-none-any.whl (46 kB)\n",
      "\u001b[2K     \u001b[90m━━━━━━━━━━━━━━━━━━━━━━━━━━━━━━━━━━━━━━━━\u001b[0m \u001b[32m46.4/46.4 kB\u001b[0m \u001b[31m5.7 MB/s\u001b[0m eta \u001b[36m0:00:00\u001b[0m\n",
      "\u001b[?25hCollecting pennylane-lightning>=0.28\n",
      "  Downloading PennyLane_Lightning-0.28.2-cp39-cp39-macosx_11_0_arm64.whl (897 kB)\n",
      "\u001b[2K     \u001b[90m━━━━━━━━━━━━━━━━━━━━━━━━━━━━━━━━━━━━━━\u001b[0m \u001b[32m897.8/897.8 kB\u001b[0m \u001b[31m28.6 MB/s\u001b[0m eta \u001b[36m0:00:00\u001b[0m\n",
      "\u001b[?25hRequirement already satisfied: retworkx in /Users/fatah/miniconda3/lib/python3.9/site-packages (from pennylane) (0.12.1)\n",
      "Collecting toml\n",
      "  Downloading toml-0.10.2-py2.py3-none-any.whl (16 kB)\n",
      "Collecting numpy<1.24\n",
      "  Downloading numpy-1.23.5-cp39-cp39-macosx_11_0_arm64.whl (13.4 MB)\n",
      "\u001b[2K     \u001b[90m━━━━━━━━━━━━━━━━━━━━━━━━━━━━━━━━━━━━━━━━\u001b[0m \u001b[32m13.4/13.4 MB\u001b[0m \u001b[31m25.7 MB/s\u001b[0m eta \u001b[36m0:00:00\u001b[0m00:01\u001b[0m00:01\u001b[0m\n",
      "\u001b[?25hRequirement already satisfied: scipy in /Users/fatah/miniconda3/lib/python3.9/site-packages (from pennylane) (1.9.3)\n",
      "Collecting appdirs\n",
      "  Downloading appdirs-1.4.4-py2.py3-none-any.whl (9.6 kB)\n",
      "Collecting ninja\n",
      "  Downloading ninja-1.11.1-py2.py3-none-macosx_10_9_universal2.macosx_10_9_x86_64.macosx_11_0_arm64.macosx_11_0_universal2.whl (270 kB)\n",
      "\u001b[2K     \u001b[90m━━━━━━━━━━━━━━━━━━━━━━━━━━━━━━━━━━━━━━\u001b[0m \u001b[32m270.7/270.7 kB\u001b[0m \u001b[31m22.2 MB/s\u001b[0m eta \u001b[36m0:00:00\u001b[0m\n",
      "\u001b[?25hCollecting future>=0.15.2\n",
      "  Downloading future-0.18.3.tar.gz (840 kB)\n",
      "\u001b[2K     \u001b[90m━━━━━━━━━━━━━━━━━━━━━━━━━━━━━━━━━━━━━━\u001b[0m \u001b[32m840.9/840.9 kB\u001b[0m \u001b[31m24.6 MB/s\u001b[0m eta \u001b[36m0:00:00\u001b[0m\n",
      "\u001b[?25h  Preparing metadata (setup.py) ... \u001b[?25ldone\n",
      "\u001b[?25hRequirement already satisfied: certifi>=2017.4.17 in /Users/fatah/miniconda3/lib/python3.9/site-packages (from requests->pennylane) (2022.12.7)\n",
      "Requirement already satisfied: charset-normalizer<3,>=2 in /Users/fatah/miniconda3/lib/python3.9/site-packages (from requests->pennylane) (2.1.1)\n",
      "Requirement already satisfied: urllib3<1.27,>=1.21.1 in /Users/fatah/miniconda3/lib/python3.9/site-packages (from requests->pennylane) (1.26.13)\n",
      "Requirement already satisfied: idna<4,>=2.5 in /Users/fatah/miniconda3/lib/python3.9/site-packages (from requests->pennylane) (3.4)\n",
      "Requirement already satisfied: rustworkx==0.12.1 in /Users/fatah/miniconda3/lib/python3.9/site-packages (from retworkx->pennylane) (0.12.1)\n",
      "Building wheels for collected packages: future\n",
      "  Building wheel for future (setup.py) ... \u001b[?25ldone\n",
      "\u001b[?25h  Created wheel for future: filename=future-0.18.3-py3-none-any.whl size=492025 sha256=3da702dc9257c237866365f0d3ea622e088c631a398ab620e8aae3bf6a734168\n",
      "  Stored in directory: /Users/fatah/Library/Caches/pip/wheels/0c/ff/54/efb16da5b1058114a457b3c7167904915d2e5764b637ae8d3d\n",
      "Successfully built future\n",
      "Installing collected packages: ninja, appdirs, toml, semantic-version, numpy, networkx, future, cachetools, autoray, autograd, pennylane-lightning, pennylane\n",
      "  Attempting uninstall: numpy\n",
      "    Found existing installation: numpy 1.24.0\n",
      "    Uninstalling numpy-1.24.0:\n",
      "      Successfully uninstalled numpy-1.24.0\n",
      "Successfully installed appdirs-1.4.4 autograd-1.5 autoray-0.6.0 cachetools-5.3.0 future-0.18.3 networkx-3.0 ninja-1.11.1 numpy-1.23.5 pennylane-0.28.0 pennylane-lightning-0.28.2 semantic-version-2.10.0 toml-0.10.2\n",
      "Note: you may need to restart the kernel to use updated packages.\n"
     ]
    }
   ],
   "source": [
    "pip install pennylane"
   ]
  },
  {
   "cell_type": "code",
   "execution_count": 3,
   "metadata": {},
   "outputs": [],
   "source": [
    "import json\n",
    "import pennylane as qml\n",
    "import pennylane.numpy as np"
   ]
  },
  {
   "cell_type": "code",
   "execution_count": 4,
   "metadata": {},
   "outputs": [],
   "source": [
    "# Welcome to the QHack 2023 coding challenges!\n",
    "def add_numbers(x, y):\n",
    "    \"\"\"This function adds two numbers together.\n",
    "\n",
    "    Args:\n",
    "        x (float): A number.\n",
    "        y (float): A number. \n",
    "\n",
    "    Returns:\n",
    "        (float): The result of adding x and y.\n",
    "    \"\"\"\n",
    "\n",
    "\n",
    "    # Put your code here # \n",
    "    return\n"
   ]
  },
  {
   "cell_type": "code",
   "execution_count": 5,
   "metadata": {},
   "outputs": [],
   "source": [
    "\n",
    "# These functions are responsible for testing the solution.\n",
    "\n",
    "def run(test_case_input: str) -> str:\n",
    "    x, y = json.loads(test_case_input)\n",
    "    result = add_numbers(x, y)\n",
    "    return str(result)\n",
    "\n",
    "def check(solution_output: str, expected_output: str) -> None:\n",
    "    solution_output = json.loads(solution_output)\n",
    "    expected_output = json.loads(expected_output)\n",
    "    assert np.allclose(\n",
    "        solution_output, expected_output, rtol=1e-4\n",
    "    ), \"Your addition function isn't quite right!\"\n",
    "\n"
   ]
  },
  {
   "cell_type": "markdown",
   "metadata": {},
   "source": []
  },
  {
   "cell_type": "code",
   "execution_count": 7,
   "metadata": {},
   "outputs": [],
   "source": [
    "test_cases = [['[0.2, -0.2]', '0.0']]"
   ]
  },
  {
   "cell_type": "code",
   "execution_count": 8,
   "metadata": {},
   "outputs": [
    {
     "name": "stdout",
     "output_type": "stream",
     "text": [
      "Running test case 0 with input '[0.2, -0.2]'...\n"
     ]
    },
    {
     "ename": "JSONDecodeError",
     "evalue": "Expecting value: line 1 column 1 (char 0)",
     "output_type": "error",
     "traceback": [
      "\u001b[0;31m---------------------------------------------------------------------------\u001b[0m",
      "\u001b[0;31mJSONDecodeError\u001b[0m                           Traceback (most recent call last)",
      "Cell \u001b[0;32mIn[8], line 11\u001b[0m\n\u001b[1;32m      8\u001b[0m     \u001b[39mprint\u001b[39m(\u001b[39mf\u001b[39m\u001b[39m\"\u001b[39m\u001b[39mRuntime Error. \u001b[39m\u001b[39m{\u001b[39;00mexc\u001b[39m}\u001b[39;00m\u001b[39m\"\u001b[39m)\n\u001b[1;32m     10\u001b[0m \u001b[39melse\u001b[39;00m:\n\u001b[0;32m---> 11\u001b[0m     \u001b[39mif\u001b[39;00m message \u001b[39m:=\u001b[39m check(output, expected_output):\n\u001b[1;32m     12\u001b[0m         \u001b[39mprint\u001b[39m(\u001b[39mf\u001b[39m\u001b[39m\"\u001b[39m\u001b[39mWrong Answer. Have: \u001b[39m\u001b[39m'\u001b[39m\u001b[39m{\u001b[39;00moutput\u001b[39m}\u001b[39;00m\u001b[39m'\u001b[39m\u001b[39m. Want: \u001b[39m\u001b[39m'\u001b[39m\u001b[39m{\u001b[39;00mexpected_output\u001b[39m}\u001b[39;00m\u001b[39m'\u001b[39m\u001b[39m.\u001b[39m\u001b[39m\"\u001b[39m)\n\u001b[1;32m     14\u001b[0m     \u001b[39melse\u001b[39;00m:\n",
      "Cell \u001b[0;32mIn[5], line 9\u001b[0m, in \u001b[0;36mcheck\u001b[0;34m(solution_output, expected_output)\u001b[0m\n\u001b[1;32m      8\u001b[0m \u001b[39mdef\u001b[39;00m \u001b[39mcheck\u001b[39m(solution_output: \u001b[39mstr\u001b[39m, expected_output: \u001b[39mstr\u001b[39m) \u001b[39m-\u001b[39m\u001b[39m>\u001b[39m \u001b[39mNone\u001b[39;00m:\n\u001b[0;32m----> 9\u001b[0m     solution_output \u001b[39m=\u001b[39m json\u001b[39m.\u001b[39;49mloads(solution_output)\n\u001b[1;32m     10\u001b[0m     expected_output \u001b[39m=\u001b[39m json\u001b[39m.\u001b[39mloads(expected_output)\n\u001b[1;32m     11\u001b[0m     \u001b[39massert\u001b[39;00m np\u001b[39m.\u001b[39mallclose(\n\u001b[1;32m     12\u001b[0m         solution_output, expected_output, rtol\u001b[39m=\u001b[39m\u001b[39m1e-4\u001b[39m\n\u001b[1;32m     13\u001b[0m     ), \u001b[39m\"\u001b[39m\u001b[39mYour addition function isn\u001b[39m\u001b[39m'\u001b[39m\u001b[39mt quite right!\u001b[39m\u001b[39m\"\u001b[39m\n",
      "File \u001b[0;32m~/miniconda3/lib/python3.9/json/__init__.py:346\u001b[0m, in \u001b[0;36mloads\u001b[0;34m(s, cls, object_hook, parse_float, parse_int, parse_constant, object_pairs_hook, **kw)\u001b[0m\n\u001b[1;32m    341\u001b[0m     s \u001b[39m=\u001b[39m s\u001b[39m.\u001b[39mdecode(detect_encoding(s), \u001b[39m'\u001b[39m\u001b[39msurrogatepass\u001b[39m\u001b[39m'\u001b[39m)\n\u001b[1;32m    343\u001b[0m \u001b[39mif\u001b[39;00m (\u001b[39mcls\u001b[39m \u001b[39mis\u001b[39;00m \u001b[39mNone\u001b[39;00m \u001b[39mand\u001b[39;00m object_hook \u001b[39mis\u001b[39;00m \u001b[39mNone\u001b[39;00m \u001b[39mand\u001b[39;00m\n\u001b[1;32m    344\u001b[0m         parse_int \u001b[39mis\u001b[39;00m \u001b[39mNone\u001b[39;00m \u001b[39mand\u001b[39;00m parse_float \u001b[39mis\u001b[39;00m \u001b[39mNone\u001b[39;00m \u001b[39mand\u001b[39;00m\n\u001b[1;32m    345\u001b[0m         parse_constant \u001b[39mis\u001b[39;00m \u001b[39mNone\u001b[39;00m \u001b[39mand\u001b[39;00m object_pairs_hook \u001b[39mis\u001b[39;00m \u001b[39mNone\u001b[39;00m \u001b[39mand\u001b[39;00m \u001b[39mnot\u001b[39;00m kw):\n\u001b[0;32m--> 346\u001b[0m     \u001b[39mreturn\u001b[39;00m _default_decoder\u001b[39m.\u001b[39;49mdecode(s)\n\u001b[1;32m    347\u001b[0m \u001b[39mif\u001b[39;00m \u001b[39mcls\u001b[39m \u001b[39mis\u001b[39;00m \u001b[39mNone\u001b[39;00m:\n\u001b[1;32m    348\u001b[0m     \u001b[39mcls\u001b[39m \u001b[39m=\u001b[39m JSONDecoder\n",
      "File \u001b[0;32m~/miniconda3/lib/python3.9/json/decoder.py:337\u001b[0m, in \u001b[0;36mJSONDecoder.decode\u001b[0;34m(self, s, _w)\u001b[0m\n\u001b[1;32m    332\u001b[0m \u001b[39mdef\u001b[39;00m \u001b[39mdecode\u001b[39m(\u001b[39mself\u001b[39m, s, _w\u001b[39m=\u001b[39mWHITESPACE\u001b[39m.\u001b[39mmatch):\n\u001b[1;32m    333\u001b[0m     \u001b[39m\"\"\"Return the Python representation of ``s`` (a ``str`` instance\u001b[39;00m\n\u001b[1;32m    334\u001b[0m \u001b[39m    containing a JSON document).\u001b[39;00m\n\u001b[1;32m    335\u001b[0m \n\u001b[1;32m    336\u001b[0m \u001b[39m    \"\"\"\u001b[39;00m\n\u001b[0;32m--> 337\u001b[0m     obj, end \u001b[39m=\u001b[39m \u001b[39mself\u001b[39;49m\u001b[39m.\u001b[39;49mraw_decode(s, idx\u001b[39m=\u001b[39;49m_w(s, \u001b[39m0\u001b[39;49m)\u001b[39m.\u001b[39;49mend())\n\u001b[1;32m    338\u001b[0m     end \u001b[39m=\u001b[39m _w(s, end)\u001b[39m.\u001b[39mend()\n\u001b[1;32m    339\u001b[0m     \u001b[39mif\u001b[39;00m end \u001b[39m!=\u001b[39m \u001b[39mlen\u001b[39m(s):\n",
      "File \u001b[0;32m~/miniconda3/lib/python3.9/json/decoder.py:355\u001b[0m, in \u001b[0;36mJSONDecoder.raw_decode\u001b[0;34m(self, s, idx)\u001b[0m\n\u001b[1;32m    353\u001b[0m     obj, end \u001b[39m=\u001b[39m \u001b[39mself\u001b[39m\u001b[39m.\u001b[39mscan_once(s, idx)\n\u001b[1;32m    354\u001b[0m \u001b[39mexcept\u001b[39;00m \u001b[39mStopIteration\u001b[39;00m \u001b[39mas\u001b[39;00m err:\n\u001b[0;32m--> 355\u001b[0m     \u001b[39mraise\u001b[39;00m JSONDecodeError(\u001b[39m\"\u001b[39m\u001b[39mExpecting value\u001b[39m\u001b[39m\"\u001b[39m, s, err\u001b[39m.\u001b[39mvalue) \u001b[39mfrom\u001b[39;00m \u001b[39mNone\u001b[39m\n\u001b[1;32m    356\u001b[0m \u001b[39mreturn\u001b[39;00m obj, end\n",
      "\u001b[0;31mJSONDecodeError\u001b[0m: Expecting value: line 1 column 1 (char 0)"
     ]
    }
   ],
   "source": [
    "\n",
    "for i, (input_, expected_output) in enumerate(test_cases):\n",
    "    print(f\"Running test case {i} with input '{input_}'...\")\n",
    "\n",
    "    try:\n",
    "        output = run(input_)\n",
    "\n",
    "    except Exception as exc:\n",
    "        print(f\"Runtime Error. {exc}\")\n",
    "\n",
    "    else:\n",
    "        if message := check(output, expected_output):\n",
    "            print(f\"Wrong Answer. Have: '{output}'. Want: '{expected_output}'.\")\n",
    "\n",
    "        else:\n",
    "            print(\"Correct!\")"
   ]
  },
  {
   "cell_type": "code",
   "execution_count": 23,
   "metadata": {},
   "outputs": [
    {
     "name": "stdout",
     "output_type": "stream",
     "text": [
      "8\n"
     ]
    }
   ],
   "source": [
    "def myfunction():\n",
    "    print(3+5)\n",
    "\n",
    "myfunction()"
   ]
  },
  {
   "cell_type": "code",
   "execution_count": 24,
   "metadata": {},
   "outputs": [
    {
     "name": "stdout",
     "output_type": "stream",
     "text": [
      "8\n"
     ]
    }
   ],
   "source": [
    "myfunction()"
   ]
  },
  {
   "cell_type": "code",
   "execution_count": 28,
   "metadata": {},
   "outputs": [
    {
     "name": "stdout",
     "output_type": "stream",
     "text": [
      "30\n"
     ]
    }
   ],
   "source": [
    "def arthmatic():\n",
    "    print(34-4)\n",
    "arthmatic()"
   ]
  },
  {
   "cell_type": "code",
   "execution_count": 31,
   "metadata": {},
   "outputs": [
    {
     "name": "stdout",
     "output_type": "stream",
     "text": [
      "30\n"
     ]
    }
   ],
   "source": [
    "arthmatic()"
   ]
  },
  {
   "attachments": {},
   "cell_type": "markdown",
   "metadata": {},
   "source": [
    "### Define a python function.\n",
    "\n",
    "example\n",
    "\n",
    "def myfunction():\n",
    "\n",
    "    print(\"Hello World\")\n",
    "\n",
    "myfunction()\n",
    "\n",
    "output = Hello World\n",
    "\n",
    "write **def** <name of function> then paranthesis and colon:\n",
    "\n",
    "**def myfunction():**  \n",
    "\n",
    "#### Arguments in Python Functions\n",
    "\n",
    "While defining a function in Python, you can pass argument(s) into the function by putting them inside the parenthesis.\n",
    "\n",
    "The basic syntax for doing this looks as shown below:\n",
    "\n",
    "def functionName(arg1, arg2):\n",
    "\n",
    "    # What to do with function\n",
    "    \n",
    "When the function is called, then you need to specify a value for the arguments:\n",
    "\n",
    "functionName(valueForArg1, valueForArg2)\n",
    "\n",
    "Here's an example of arguments in a Python function:\n",
    "\n",
    "def addNum(num1, num2):\n",
    "\n",
    "    print(num1 + num2)\n",
    "\n",
    "addNum(2, 4)\n",
    "\n",
    "### Output: 6"
   ]
  },
  {
   "cell_type": "code",
   "execution_count": 38,
   "metadata": {},
   "outputs": [
    {
     "name": "stdout",
     "output_type": "stream",
     "text": [
      "15\n"
     ]
    }
   ],
   "source": [
    "def addingArgs(arg1, arg2):\n",
    "    print(arg1 + arg2)\n",
    "addingArgs(5, 10)"
   ]
  },
  {
   "attachments": {},
   "cell_type": "markdown",
   "metadata": {},
   "source": [
    "##### How to Use the Return Keyword in Python\n",
    "In Python, you can use the return keyword to exit a function so it goes back to where it was called. That is, send something out of the function.\n",
    "\n",
    "The return statement can contain an expression to execute once the function is called.\n",
    "\n",
    "The example below demonstrates how the return keyword works in Python:\n",
    "\n",
    "def multiplyNum(num1):\n",
    "    \n",
    "    return num1 * 8\n",
    "\n",
    "result = multiplyNum(8)\n",
    "\n",
    "print(result)\n",
    "\n",
    "**Output: 64**"
   ]
  },
  {
   "cell_type": "code",
   "execution_count": 39,
   "metadata": {},
   "outputs": [
    {
     "name": "stdout",
     "output_type": "stream",
     "text": [
      "50\n"
     ]
    }
   ],
   "source": [
    "def multiplyNum(Num1):\n",
    "    return Num1 *10\n",
    "result = multiplyNum(5)\n",
    "print(result)"
   ]
  },
  {
   "attachments": {},
   "cell_type": "markdown",
   "metadata": {},
   "source": [
    "# Unit tests for Python functions \n",
    "\n",
    "(https://www.freecodecamp.org/)\n",
    "\n",
    "Well, when working on a large project, you'll often have to update certain modules and refactor code as needed. But such changes can have unintended consequences on other modules that use an updated module within them. This can sometimes break existing functionality.\n",
    "\n",
    "As a developer, you should test your code to ensure that all modules in the application work as intended. Unit tests let you check if small isolated units of code function correctly and enable you to fix inconsistencies that arise from updates and refactoring.\n",
    "\n",
    "This guide will help you get started with unit testing in Python. You'll learn how to use Python's built-in unittest module to set up and run unit tests and write test cases to test Python functions. You'll also learn how to test functions that raise exceptions.\n",
    "\n",
    "**Let's start:**"
   ]
  },
  {
   "attachments": {},
   "cell_type": "markdown",
   "metadata": {},
   "source": [
    "### Testing in Python – First Steps\n",
    "We'll start by defining a Python function and write unit tests to check if it works as expected. To focus on how to set up unit tests, we'll consider a simple function is_prime(), that takes in a number and checks whether or not it is prime."
   ]
  },
  {
   "cell_type": "code",
   "execution_count": 1,
   "metadata": {},
   "outputs": [],
   "source": [
    "import math\n",
    "\n",
    "def is_prime(num):\n",
    "    '''Check if num is prime or not.'''\n",
    "    for i in range(2,int(math.sqrt(num))+1):\n",
    "        if num%i==0:\n",
    "            return False\n",
    "    return True"
   ]
  },
  {
   "cell_type": "markdown",
   "metadata": {},
   "source": [
    "Let’s start a Python REPL, call the function is_prime() with arguments, and verify the results."
   ]
  },
  {
   "cell_type": "code",
   "execution_count": 6,
   "metadata": {},
   "outputs": [
    {
     "ename": "ImportError",
     "evalue": "cannot import name 'prime_number' from 'math' (/Users/fatah/miniconda3/lib/python3.9/lib-dynload/math.cpython-39-darwin.so)",
     "output_type": "error",
     "traceback": [
      "\u001b[0;31m---------------------------------------------------------------------------\u001b[0m",
      "\u001b[0;31mImportError\u001b[0m                               Traceback (most recent call last)",
      "Cell \u001b[0;32mIn[6], line 1\u001b[0m\n\u001b[0;32m----> 1\u001b[0m \u001b[39mfrom\u001b[39;00m \u001b[39mmath\u001b[39;00m \u001b[39mimport\u001b[39;00m prime_number\n\u001b[1;32m      2\u001b[0m \u001b[39mfrom\u001b[39;00m \u001b[39mprime_number\u001b[39;00m \u001b[39mimport\u001b[39;00m is_prime\n",
      "\u001b[0;31mImportError\u001b[0m: cannot import name 'prime_number' from 'math' (/Users/fatah/miniconda3/lib/python3.9/lib-dynload/math.cpython-39-darwin.so)"
     ]
    }
   ],
   "source": [
    "from math import prime_number\n",
    "from prime_number import is_prime"
   ]
  },
  {
   "cell_type": "code",
   "execution_count": null,
   "metadata": {},
   "outputs": [],
   "source": [
    "from prime_number import is_prime\n",
    "is_prime(3)\n",
    "True\n",
    "is_prime(5)\n",
    "True\n",
    "is_prime(12)\n",
    "False\n",
    "is_prime(8)\n",
    "False\n",
    "assert is_prime(7) == True"
   ]
  },
  {
   "cell_type": "code",
   "execution_count": 10,
   "metadata": {},
   "outputs": [
    {
     "ename": "ModuleNotFoundError",
     "evalue": "No module named 'prime_number'",
     "output_type": "error",
     "traceback": [
      "\u001b[0;31m---------------------------------------------------------------------------\u001b[0m",
      "\u001b[0;31mModuleNotFoundError\u001b[0m                       Traceback (most recent call last)",
      "Cell \u001b[0;32mIn[10], line 3\u001b[0m\n\u001b[1;32m      1\u001b[0m \u001b[39mimport\u001b[39;00m \u001b[39munittest\u001b[39;00m\n\u001b[1;32m      2\u001b[0m \u001b[39m# import the is_prime function\u001b[39;00m\n\u001b[0;32m----> 3\u001b[0m \u001b[39mfrom\u001b[39;00m \u001b[39mprime_number\u001b[39;00m \u001b[39mimport\u001b[39;00m isprime\n\u001b[1;32m      4\u001b[0m \u001b[39mclass\u001b[39;00m \u001b[39mTestPrime\u001b[39;00m(unittest\u001b[39m.\u001b[39mTestCase):\n\u001b[1;32m      5\u001b[0m     \u001b[39mdef\u001b[39;00m \u001b[39mtest_two\u001b[39m(\u001b[39mself\u001b[39m):\n",
      "\u001b[0;31mModuleNotFoundError\u001b[0m: No module named 'prime_number'"
     ]
    }
   ],
   "source": [
    "import unittest\n",
    "# import the is_prime function\n",
    "from prime_number import isprime\n",
    "class TestPrime(unittest.TestCase):\n",
    "    def test_two(self):\n",
    "        self.assertTrue(is_prime(2))\n",
    "    def test_five(self):\n",
    "    \tself.assertTrue(is_prime(5))\n",
    "    def test_nine(self):\n",
    "    \tself.assertFalse(is_prime(9))\n",
    "    def test_eleven(self):\n",
    "    \tself.assertTrue(is_prime(11))\n",
    "if __name__=='__main__':\n",
    "\tunittest.main()"
   ]
  },
  {
   "cell_type": "code",
   "execution_count": null,
   "metadata": {},
   "outputs": [],
   "source": []
  }
 ],
 "metadata": {
  "kernelspec": {
   "display_name": "base",
   "language": "python",
   "name": "python3"
  },
  "language_info": {
   "codemirror_mode": {
    "name": "ipython",
    "version": 3
   },
   "file_extension": ".py",
   "mimetype": "text/x-python",
   "name": "python",
   "nbconvert_exporter": "python",
   "pygments_lexer": "ipython3",
   "version": "3.9.15"
  },
  "orig_nbformat": 4,
  "vscode": {
   "interpreter": {
    "hash": "a7a9f21a6c14b31a0974709d59a7d810c8eb37e307e04587488bec2470cf4022"
   }
  }
 },
 "nbformat": 4,
 "nbformat_minor": 2
}
