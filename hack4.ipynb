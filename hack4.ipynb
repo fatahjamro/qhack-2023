{
 "cells": [
  {
   "cell_type": "markdown",
   "id": "6d556f22",
   "metadata": {},
   "source": [
    "4. Product Management\n",
    "0 points\n",
    "Welcome to the QHack 2023 daily challenges! Every day for the next four days, you will receive two new challenges to complete. These challenges are worth no points — they are specifically designed to get your brain active and into the right mindset for the competition. You will also learn about various aspects of PennyLane that are essential to quantum computing, quantum machine learning, and quantum chemistry. Have fun!\n",
    "\n",
    "Tutorial #4 — Product states\n",
    "Entanglement is a quantum phenomenon that leads to unique statistical properties. We can harness it to do seemingly far-fetched tasks like quantum teleportation!\n",
    "\n",
    "Given a multi-qubit pure state (i.e., does not need to be described by a density operator), the presence of entanglement boils down to whether or not the state is a product state. Given a two-qubit state where the qubits are labelled by A and B, a general pure quantum state can be written as\n",
    "\n",
    "$$ \\ket{𝜓}_{AB} = \\sum_{ij} c_{ij}\\ket i_A ⊗\\ket j_B $$\n",
    "\n",
    "$ \\ket {𝜓}_{AB} $ is said to be a product state for subsystems  and  if it can be written as a tensor product\n",
    "$$ \\ket{𝜓}_{AB} = \\ket{𝜓}_A ⊗\\ket{𝜓}_B $$\n",
    "For example, the well-known Bell states cannot be written as product states between the two qubits.\n",
    "\n",
    "Your job is to create a function that can tell whether or not a pure state can be written as a product state between a subsystem and its complement (e.g., if A is the subsystem, then B=A', meaning that system B is the set of qubits that are not in A).\n",
    "\n",
    "Challenge code\n",
    "\n",
    "In the code below, you are given a function called is_product. This function will output \"yes\" or \"no\" correspondingly. You must complete this function.\n",
    "\n",
    "Here are some helpful resources:\n",
    "\n",
    "Separable quantum states\n",
    "\n",
    "qml.density_matrix\n",
    "\n",
    "Input\n",
    "As input to this problem, you are given:\n",
    "\n",
    "state (list(float)): this defines  (pure quantum state in question).\n",
    "\n",
    "subsystem (list(int)): the subsystem that defines the subsystem of qubits A and B. I.e., the two groups of qubits that you will determine if a state can be written as a product state.\n",
    "\n",
    "wires (list(int)): the wire labels associated to the qubit state of interest.\n",
    "\n",
    "Output\n",
    "\n",
    "This code must output \"yes\" or \"no\" if the state  is a product state (with respect to  and ).\n",
    "\n",
    "If your solution matches the correct one, the output will be \"Correct!\" Otherwise, you will receive a \"Wrong answer\" prompt.\n",
    "\n",
    "Good luck!\n",
    "\n",
    "Code"
   ]
  },
  {
   "cell_type": "code",
   "execution_count": null,
   "id": "c63d6b7e",
   "metadata": {},
   "outputs": [],
   "source": [
    "import json\n",
    "import pennylane as qml\n",
    "import pennylane.numpy as np\n"
   ]
  },
  {
   "cell_type": "code",
   "execution_count": null,
   "id": "6043622c",
   "metadata": {},
   "outputs": [],
   "source": [
    "def is_product(state, subsystem, wires):\n",
    "    \"\"\"Determines if a pure quantum state can be written as a product state between \n",
    "    a subsystem of wires and their compliment.\n",
    "\n",
    "    Args:\n",
    "        state (numpy.array): The quantum state of interest.\n",
    "        subsystem (list(int)): The subsystem used to determine if the state is a product state.\n",
    "        wires (list(int)): The wire/qubit labels for the state. Use these for creating a QNode if you wish!\n",
    "\n",
    "    Returns:\n",
    "        (str): \"yes\" if the state is a product state or \"no\" if it isn't.\n",
    "    \"\"\""
   ]
  },
  {
   "cell_type": "code",
   "execution_count": null,
   "id": "37481f52",
   "metadata": {},
   "outputs": [],
   "source": [
    "    # Put your solution here #\n",
    "    return"
   ]
  },
  {
   "cell_type": "code",
   "execution_count": null,
   "id": "afe8f5b0",
   "metadata": {},
   "outputs": [],
   "source": [
    "# These functions are responsible for testing the solution.\n",
    "def run(test_case_input: str) -> str:\n",
    "    ins = json.loads(test_case_input)\n",
    "    state, subsystem, wires = ins\n",
    "    state = np.array(state)\n",
    "    output = is_product(state, subsystem, wires)\n",
    "    return output\n",
    "\n",
    "def check(solution_output: str, expected_output: str) -> None:\n",
    "    assert solution_output == expected_output"
   ]
  },
  {
   "cell_type": "code",
   "execution_count": null,
   "id": "d0c796ed",
   "metadata": {},
   "outputs": [],
   "source": [
    "test_cases = [['[[0.707107, 0, 0, 0.707107], [0], [0, 1]]', 'no'], ['[[1, 0, 0, 0], [0], [0, 1]]', 'yes']]"
   ]
  },
  {
   "cell_type": "code",
   "execution_count": null,
   "id": "e49c4f5e",
   "metadata": {},
   "outputs": [],
   "source": [
    "for i, (input_, expected_output) in enumerate(test_cases):\n",
    "    print(f\"Running test case {i} with input '{input_}'...\")\n",
    "\n",
    "    try:\n",
    "        output = run(input_)\n",
    "\n",
    "    except Exception as exc:\n",
    "        print(f\"Runtime Error. {exc}\")\n",
    "\n",
    "    else:\n",
    "        if message := check(output, expected_output):\n",
    "            print(f\"Wrong Answer. Have: '{output}'. Want: '{expected_output}'.\")\n",
    "\n",
    "        else:\n",
    "            print(\"Correct!\")"
   ]
  },
  {
   "cell_type": "code",
   "execution_count": null,
   "id": "280f7412",
   "metadata": {},
   "outputs": [],
   "source": []
  }
 ],
 "metadata": {
  "kernelspec": {
   "display_name": "Python 3 (ipykernel)",
   "language": "python",
   "name": "python3"
  },
  "language_info": {
   "codemirror_mode": {
    "name": "ipython",
    "version": 3
   },
   "file_extension": ".py",
   "mimetype": "text/x-python",
   "name": "python",
   "nbconvert_exporter": "python",
   "pygments_lexer": "ipython3",
   "version": "3.9.15"
  }
 },
 "nbformat": 4,
 "nbformat_minor": 5
}
