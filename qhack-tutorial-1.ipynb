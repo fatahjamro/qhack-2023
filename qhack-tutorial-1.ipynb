{
 "cells": [
  {
   "cell_type": "markdown",
   "id": "720a0010",
   "metadata": {},
   "source": [
    "# It Adds Up   (0 points)\n",
    "\n",
    "Welcome to the QHack 2023 daily challenges! Every day for the next four days, you will receive two new challenges to complete. These challenges are worth no points — they are specifically designed to get your brain active and into the right mindset for the competition. You will also learn about various aspects of PennyLane that are essential to quantum computing, quantum machine learning, and quantum chemistry. Have fun!\n",
    "\n",
    "### Tutorial # 1 — Adding two numbers\n",
    "By completing this tutorial problem, you will gain confidence with interacting with this interface for submitting solutions to the challenges.\n",
    "\n",
    "The code block below intentionally contains editable sections as well as non-editable sections to ensure that vital pieces of the entire code are not modified — they are essential to evaluating your solution. Within the editable sections, you must write your solution to the given problem. When you're ready to submit your solution, you can do so by clicking the \"Submit\" button at the bottom-right of this page. Your solution will run against the public inputs and outputs given by test_cases as well as test cases that are private (not visible to you).\n",
    "\n",
    "When you submit your solution, its status will automatically pop-up on the screen. To see your submission history, you can click the Submissions tab near the top of this page. There, all of your submissions to our grader service will be displayed.\n",
    "\n",
    "What should you do if your submission isn't passing? It would be nice to be able to edit the entire code block, not just what's editable here. To do this, you have a couple of options:\n",
    "\n",
    "At the bottom of the page, if you click the button that says \"Open Notebook\", this will open a notebook interface on Xanadu Cloud that functions exactly the same as a standard Jupyter Notebook.\n",
    "\n",
    "You can also use the \"Copy all\" button to copy the challenge code to your clipboard, paste it into your favourite IDE — e.g., VSCode, Sublime, VIM, etc. — and run the challenge on your own device.\n",
    "\n",
    "In either of these cases, modify the code to your heart's content, noting that you can only paste code back into the editor here in the designated editable area.\n",
    "\n",
    "To get you familiar with how this process works, try completing the function below and submitting your answer.\n",
    "\n",
    "**Challenge code**\n",
    "In the code below, you are given a function called add_numbers. You must complete this function.\n",
    "\n",
    "**Input**\n",
    "As input to this problem, you are given a list(float) containing two numbers to add together: x and y.\n",
    "\n",
    "**Output**\n",
    "This code must output x + y (float).\n",
    "\n",
    "If your solution matches the correct one within the given tolerance specified in check (in this case it's a 1e-4 relative error tolerance), the output will be \"Correct!\" Otherwise, you will receive a \"Wrong answer\" prompt.\n",
    "\n",
    "Good luck and have fun with all of the coding challenges!"
   ]
  },
  {
   "cell_type": "markdown",
   "id": "881bf492",
   "metadata": {},
   "source": []
  },
  {
   "cell_type": "markdown",
   "id": "24b44b66",
   "metadata": {},
   "source": [
    "# Code bellow:"
   ]
  },
  {
   "cell_type": "code",
   "execution_count": null,
   "id": "4768edd6",
   "metadata": {},
   "outputs": [],
   "source": []
  },
  {
   "cell_type": "code",
   "execution_count": null,
   "id": "051499b5",
   "metadata": {},
   "outputs": [],
   "source": [
    "import json\n",
    "import pennylane as qml\n",
    "import pennylane.numpy as np\n",
    "\n",
    "# Welcome to the QHack 2023 coding challenges!\n",
    "def add_numbers(x, y):\n",
    "    \"\"\"This function adds two numbers together.\n",
    "\n",
    "    Args:\n",
    "        x (float): A number.\n",
    "        y (float): A number.\n",
    "\n",
    "    Returns:\n",
    "        (float): The result of adding x and y.\n",
    "    \"\"\"\n",
    "\n",
    "\n",
    "    # Put your code here # \n",
    "    return\n",
    "\n",
    "\n",
    "# These functions are responsible for testing the solution.\n",
    "\n",
    "def run(test_case_input: str) -> str:\n",
    "    x, y = json.loads(test_case_input)\n",
    "    result = add_numbers(x, y)\n",
    "    return str(result)\n",
    "\n",
    "def check(solution_output: str, expected_output: str) -> None:\n",
    "    solution_output = json.loads(solution_output)\n",
    "    expected_output = json.loads(expected_output)\n",
    "    assert np.allclose(\n",
    "        solution_output, expected_output, rtol=1e-4\n",
    "    ), \"Your addition function isn't quite right!\"\n",
    "\n",
    "\n",
    "test_cases = [['[0.2, -0.2]', '0.0']]\n",
    "\n",
    "for i, (input_, expected_output) in enumerate(test_cases):\n",
    "    print(f\"Running test case {i} with input '{input_}'...\")\n",
    "\n",
    "    try:\n",
    "        output = run(input_)\n",
    "\n",
    "    except Exception as exc:\n",
    "        print(f\"Runtime Error. {exc}\")\n",
    "\n",
    "    else:\n",
    "        if message := check(output, expected_output):\n",
    "            print(f\"Wrong Answer. Have: '{output}'. Want: '{expected_output}'.\")\n",
    "\n",
    "        else:\n",
    "            print(\"Correct!\")"
   ]
  }
 ],
 "metadata": {
  "kernelspec": {
   "display_name": "Python 3 (ipykernel)",
   "language": "python",
   "name": "python3"
  },
  "language_info": {
   "codemirror_mode": {
    "name": "ipython",
    "version": 3
   },
   "file_extension": ".py",
   "mimetype": "text/x-python",
   "name": "python",
   "nbconvert_exporter": "python",
   "pygments_lexer": "ipython3",
   "version": "3.9.15"
  }
 },
 "nbformat": 4,
 "nbformat_minor": 5
}
